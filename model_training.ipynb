{
 "cells": [
  {
   "cell_type": "code",
   "execution_count": 70,
   "metadata": {},
   "outputs": [],
   "source": [
    "import pandas as pd\n",
    "import re\n",
    "import nltk\n",
    "import nltk\n",
    "from nltk.tokenize import word_tokenize\n",
    "from nltk.corpus import stopwords\n",
    "from nltk.stem import WordNetLemmatizer\n",
    "from sklearn.feature_extraction.text import TfidfVectorizer\n",
    "from sklearn.naive_bayes import MultinomialNB\n",
    "from sklearn.metrics import classification_report\n",
    "from sklearn.model_selection import train_test_split\n",
    "from sklearn.svm import SVC\n",
    "from sklearn.model_selection import GridSearchCV\n",
    "from sklearn.ensemble import RandomForestClassifier\n",
    "from sklearn.neighbors import KNeighborsClassifier"
   ]
  },
  {
   "cell_type": "code",
   "execution_count": 71,
   "metadata": {},
   "outputs": [
    {
     "data": {
      "text/html": [
       "<div>\n",
       "<style scoped>\n",
       "    .dataframe tbody tr th:only-of-type {\n",
       "        vertical-align: middle;\n",
       "    }\n",
       "\n",
       "    .dataframe tbody tr th {\n",
       "        vertical-align: top;\n",
       "    }\n",
       "\n",
       "    .dataframe thead th {\n",
       "        text-align: right;\n",
       "    }\n",
       "</style>\n",
       "<table border=\"1\" class=\"dataframe\">\n",
       "  <thead>\n",
       "    <tr style=\"text-align: right;\">\n",
       "      <th></th>\n",
       "      <th>rating</th>\n",
       "      <th>review</th>\n",
       "      <th>summary</th>\n",
       "    </tr>\n",
       "  </thead>\n",
       "  <tbody>\n",
       "    <tr>\n",
       "      <th>0</th>\n",
       "      <td>4</td>\n",
       "      <td>ive using dreamweaver predecessor macromedias ...</td>\n",
       "      <td>solid overview dreamweaver cs5</td>\n",
       "    </tr>\n",
       "    <tr>\n",
       "      <th>1</th>\n",
       "      <td>4</td>\n",
       "      <td>demo done pc version reference mac version nee...</td>\n",
       "      <td>good value</td>\n",
       "    </tr>\n",
       "    <tr>\n",
       "      <th>2</th>\n",
       "      <td>5</td>\n",
       "      <td>youve wanting learn create website either lack...</td>\n",
       "      <td>excellent software want use crash refresher co...</td>\n",
       "    </tr>\n",
       "    <tr>\n",
       "      <th>3</th>\n",
       "      <td>5</td>\n",
       "      <td>ive creating website dreamweaver year experien...</td>\n",
       "      <td>fantastic overview dream weaver web design gen...</td>\n",
       "    </tr>\n",
       "    <tr>\n",
       "      <th>4</th>\n",
       "      <td>5</td>\n",
       "      <td>decided trying number product switch gold stan...</td>\n",
       "      <td>excellent tutorial</td>\n",
       "    </tr>\n",
       "    <tr>\n",
       "      <th>5</th>\n",
       "      <td>5</td>\n",
       "      <td>video wellpaced delivered understandable manne...</td>\n",
       "      <td>excellent</td>\n",
       "    </tr>\n",
       "    <tr>\n",
       "      <th>6</th>\n",
       "      <td>5</td>\n",
       "      <td>spent several hour lesson love detailed clear ...</td>\n",
       "      <td>excellent video training material</td>\n",
       "    </tr>\n",
       "    <tr>\n",
       "      <th>7</th>\n",
       "      <td>5</td>\n",
       "      <td>dreamweaver mx2004 since came back spent year ...</td>\n",
       "      <td>great video difficult time program</td>\n",
       "    </tr>\n",
       "    <tr>\n",
       "      <th>8</th>\n",
       "      <td>5</td>\n",
       "      <td>also taken local community college online cour...</td>\n",
       "      <td>excellent value price</td>\n",
       "    </tr>\n",
       "    <tr>\n",
       "      <th>9</th>\n",
       "      <td>5</td>\n",
       "      <td>even though use dreamweaver great deal several...</td>\n",
       "      <td>buy copy dreamweaver</td>\n",
       "    </tr>\n",
       "    <tr>\n",
       "      <th>10</th>\n",
       "      <td>3</td>\n",
       "      <td>waited complete entire course writing review p...</td>\n",
       "      <td>competent introduction dreamweaver web principle</td>\n",
       "    </tr>\n",
       "    <tr>\n",
       "      <th>11</th>\n",
       "      <td>5</td>\n",
       "      <td>someone upgraded lightroom version 2 new versi...</td>\n",
       "      <td>learn adobe photoshop lightroom 3 video learn ...</td>\n",
       "    </tr>\n",
       "    <tr>\n",
       "      <th>12</th>\n",
       "      <td>5</td>\n",
       "      <td>adobe approved adobe photoshop lightroom 3 lea...</td>\n",
       "      <td>absolutely best</td>\n",
       "    </tr>\n",
       "    <tr>\n",
       "      <th>13</th>\n",
       "      <td>5</td>\n",
       "      <td>greate collection video disk video 2 6 minute ...</td>\n",
       "      <td>find going back product</td>\n",
       "    </tr>\n",
       "    <tr>\n",
       "      <th>14</th>\n",
       "      <td>3</td>\n",
       "      <td>100 video lesson user given high rating assume...</td>\n",
       "      <td>highly motivated patient people</td>\n",
       "    </tr>\n",
       "    <tr>\n",
       "      <th>15</th>\n",
       "      <td>5</td>\n",
       "      <td>avid lightroom user although used many time al...</td>\n",
       "      <td>great beginner lightroom user</td>\n",
       "    </tr>\n",
       "    <tr>\n",
       "      <th>16</th>\n",
       "      <td>5</td>\n",
       "      <td>long time user photoshop lightroom first versi...</td>\n",
       "      <td>need</td>\n",
       "    </tr>\n",
       "    <tr>\n",
       "      <th>17</th>\n",
       "      <td>4</td>\n",
       "      <td>learn video program flash cs5 would make nice ...</td>\n",
       "      <td>helpful introduction flash cs5 bit dry perhaps...</td>\n",
       "    </tr>\n",
       "    <tr>\n",
       "      <th>18</th>\n",
       "      <td>4</td>\n",
       "      <td>presenter sound much natural semirobotic deliv...</td>\n",
       "      <td>good introduction flash ui weakness</td>\n",
       "    </tr>\n",
       "    <tr>\n",
       "      <th>19</th>\n",
       "      <td>4</td>\n",
       "      <td>certified associate courseware come package co...</td>\n",
       "      <td>learn adobe flash professional cs5 video</td>\n",
       "    </tr>\n",
       "  </tbody>\n",
       "</table>\n",
       "</div>"
      ],
      "text/plain": [
       "    rating                                             review  \\\n",
       "0        4  ive using dreamweaver predecessor macromedias ...   \n",
       "1        4  demo done pc version reference mac version nee...   \n",
       "2        5  youve wanting learn create website either lack...   \n",
       "3        5  ive creating website dreamweaver year experien...   \n",
       "4        5  decided trying number product switch gold stan...   \n",
       "5        5  video wellpaced delivered understandable manne...   \n",
       "6        5  spent several hour lesson love detailed clear ...   \n",
       "7        5  dreamweaver mx2004 since came back spent year ...   \n",
       "8        5  also taken local community college online cour...   \n",
       "9        5  even though use dreamweaver great deal several...   \n",
       "10       3  waited complete entire course writing review p...   \n",
       "11       5  someone upgraded lightroom version 2 new versi...   \n",
       "12       5  adobe approved adobe photoshop lightroom 3 lea...   \n",
       "13       5  greate collection video disk video 2 6 minute ...   \n",
       "14       3  100 video lesson user given high rating assume...   \n",
       "15       5  avid lightroom user although used many time al...   \n",
       "16       5  long time user photoshop lightroom first versi...   \n",
       "17       4  learn video program flash cs5 would make nice ...   \n",
       "18       4  presenter sound much natural semirobotic deliv...   \n",
       "19       4  certified associate courseware come package co...   \n",
       "\n",
       "                                              summary  \n",
       "0                      solid overview dreamweaver cs5  \n",
       "1                                          good value  \n",
       "2   excellent software want use crash refresher co...  \n",
       "3   fantastic overview dream weaver web design gen...  \n",
       "4                                  excellent tutorial  \n",
       "5                                           excellent  \n",
       "6                   excellent video training material  \n",
       "7                  great video difficult time program  \n",
       "8                               excellent value price  \n",
       "9                                buy copy dreamweaver  \n",
       "10   competent introduction dreamweaver web principle  \n",
       "11  learn adobe photoshop lightroom 3 video learn ...  \n",
       "12                                    absolutely best  \n",
       "13                            find going back product  \n",
       "14                    highly motivated patient people  \n",
       "15                      great beginner lightroom user  \n",
       "16                                               need  \n",
       "17  helpful introduction flash cs5 bit dry perhaps...  \n",
       "18                good introduction flash ui weakness  \n",
       "19           learn adobe flash professional cs5 video  "
      ]
     },
     "execution_count": 71,
     "metadata": {},
     "output_type": "execute_result"
    }
   ],
   "source": [
    "df = pd.read_csv('cleaned_comments.csv')\n",
    "df.head(20)"
   ]
  },
  {
   "cell_type": "code",
   "execution_count": 72,
   "metadata": {},
   "outputs": [],
   "source": [
    "df['review'] = df['summary']+ ' ' +df['review']\n",
    "df.drop('summary', axis=1, inplace=True)\n",
    "df = df.dropna()"
   ]
  },
  {
   "cell_type": "code",
   "execution_count": 73,
   "metadata": {},
   "outputs": [],
   "source": [
    "tfidf_vectorizer_review = TfidfVectorizer(max_features=10000)\n",
    "tfidf_features_review = tfidf_vectorizer_review.fit_transform(df['review'])\n",
    "X_train, X_test, y_train, y_test = train_test_split(tfidf_features_review, df['rating'], test_size=0.2, random_state=42)"
   ]
  },
  {
   "cell_type": "code",
   "execution_count": 74,
   "metadata": {},
   "outputs": [
    {
     "name": "stdout",
     "output_type": "stream",
     "text": [
      "Naive Bayes Classification Report:\n",
      "               precision    recall  f1-score   support\n",
      "\n",
      "           1       0.89      0.18      0.30       305\n",
      "           2       0.00      0.00      0.00       152\n",
      "           3       1.00      0.00      0.01       347\n",
      "           4       0.44      0.27      0.33       583\n",
      "           5       0.52      0.95      0.67      1166\n",
      "\n",
      "    accuracy                           0.51      2553\n",
      "   macro avg       0.57      0.28      0.26      2553\n",
      "weighted avg       0.58      0.51      0.42      2553\n",
      "\n"
     ]
    },
    {
     "name": "stderr",
     "output_type": "stream",
     "text": [
      "/Users/elliotli/anaconda3/envs/dsan5400/lib/python3.11/site-packages/sklearn/metrics/_classification.py:1469: UndefinedMetricWarning: Precision and F-score are ill-defined and being set to 0.0 in labels with no predicted samples. Use `zero_division` parameter to control this behavior.\n",
      "  _warn_prf(average, modifier, msg_start, len(result))\n",
      "/Users/elliotli/anaconda3/envs/dsan5400/lib/python3.11/site-packages/sklearn/metrics/_classification.py:1469: UndefinedMetricWarning: Precision and F-score are ill-defined and being set to 0.0 in labels with no predicted samples. Use `zero_division` parameter to control this behavior.\n",
      "  _warn_prf(average, modifier, msg_start, len(result))\n",
      "/Users/elliotli/anaconda3/envs/dsan5400/lib/python3.11/site-packages/sklearn/metrics/_classification.py:1469: UndefinedMetricWarning: Precision and F-score are ill-defined and being set to 0.0 in labels with no predicted samples. Use `zero_division` parameter to control this behavior.\n",
      "  _warn_prf(average, modifier, msg_start, len(result))\n"
     ]
    }
   ],
   "source": [
    "nb_model = MultinomialNB()\n",
    "nb_model.fit(X_train, y_train)\n",
    "nb_predictions = nb_model.predict(X_test)\n",
    "print(\"Naive Bayes Classification Report:\\n\", classification_report(y_test, nb_predictions))"
   ]
  },
  {
   "cell_type": "code",
   "execution_count": 75,
   "metadata": {},
   "outputs": [],
   "source": [
    "# SVM Model Hyperparameter Tuning\n",
    "\n",
    "# param_grid = {'C': [0.1, 1, 10], 'gamma': ['scale', 'auto'], 'kernel': ['linear', 'rbf', 'poly']}\n",
    "# grid_search = GridSearchCV(SVC(), param_grid, cv=5, n_jobs=-1)\n",
    "# grid_search.fit(X_train, y_train)\n",
    "# best_svm_model = grid_search.best_estimator_\n",
    "# best_svm_predictions = best_svm_model.predict(X_test)\n",
    "# print(\"Best SVM Classification Report:\\n\", classification_report(y_test, best_svm_predictions))"
   ]
  },
  {
   "cell_type": "code",
   "execution_count": 76,
   "metadata": {},
   "outputs": [],
   "source": [
    "# print(\"Best Hyperparameters:\", grid_search.best_params_)\n",
    "# print(\"Best Model:\", grid_search.best_estimator_)"
   ]
  },
  {
   "cell_type": "code",
   "execution_count": 77,
   "metadata": {},
   "outputs": [
    {
     "name": "stdout",
     "output_type": "stream",
     "text": [
      "SVM Classification Report:\n",
      "               precision    recall  f1-score   support\n",
      "\n",
      "           1       0.78      0.77      0.77       305\n",
      "           2       0.67      0.24      0.36       152\n",
      "           3       0.66      0.44      0.53       347\n",
      "           4       0.52      0.58      0.55       583\n",
      "           5       0.76      0.85      0.80      1166\n",
      "\n",
      "    accuracy                           0.69      2553\n",
      "   macro avg       0.68      0.58      0.60      2553\n",
      "weighted avg       0.69      0.69      0.68      2553\n",
      "\n"
     ]
    }
   ],
   "source": [
    "svm_model = SVC(C=10,gamma='scale',kernel='rbf')\n",
    "svm_model.fit(X_train, y_train)\n",
    "svm_predictions = svm_model.predict(X_test)\n",
    "print(\"SVM Classification Report:\\n\", classification_report(y_test, svm_predictions))"
   ]
  },
  {
   "cell_type": "code",
   "execution_count": 78,
   "metadata": {},
   "outputs": [],
   "source": [
    "# Random Forest Model Hyperparameter Tuning\n",
    "\n",
    "# param_grid_rf = {\n",
    "#     'n_estimators': [100, 200, 300],\n",
    "#     'max_depth': [10, 20, 30],\n",
    "#     'min_samples_split': [2, 5, 10]\n",
    "# }\n",
    "\n",
    "# grid_search_rf = GridSearchCV(RandomForestClassifier(random_state=42, n_jobs=-1), param_grid_rf, cv=5, n_jobs=-1)\n",
    "# grid_search_rf.fit(X_train, y_train)\n",
    "# best_rf_model = grid_search_rf.best_estimator_\n",
    "# best_rf_predictions = best_rf_model.predict(X_test)\n",
    "# print(\"Best Random Forest Classification Report:\\n\", classification_report(y_test, best_rf_predictions))"
   ]
  },
  {
   "cell_type": "code",
   "execution_count": 79,
   "metadata": {},
   "outputs": [],
   "source": [
    "# print(\"Best Hyperparameters:\", grid_search_rf.best_params_)\n",
    "# print(\"Best Model:\", grid_search_rf.best_estimator_)"
   ]
  },
  {
   "cell_type": "code",
   "execution_count": 80,
   "metadata": {},
   "outputs": [
    {
     "name": "stdout",
     "output_type": "stream",
     "text": [
      "Random Forest Classification Report:\n",
      "               precision    recall  f1-score   support\n",
      "\n",
      "           1       0.99      0.26      0.41       305\n",
      "           2       1.00      0.10      0.18       152\n",
      "           3       0.97      0.10      0.18       347\n",
      "           4       0.49      0.26      0.34       583\n",
      "           5       0.54      0.97      0.69      1166\n",
      "\n",
      "    accuracy                           0.55      2553\n",
      "   macro avg       0.80      0.34      0.36      2553\n",
      "weighted avg       0.67      0.55      0.48      2553\n",
      "\n"
     ]
    }
   ],
   "source": [
    "rf_model = RandomForestClassifier(max_depth=30,n_estimators=300,min_samples_split=5 ,random_state=42,n_jobs=-1)\n",
    "rf_model.fit(X_train, y_train)\n",
    "rf_predictions = rf_model.predict(X_test)\n",
    "print(\"Random Forest Classification Report:\\n\", classification_report(y_test, rf_predictions))"
   ]
  },
  {
   "cell_type": "code",
   "execution_count": 81,
   "metadata": {},
   "outputs": [],
   "source": [
    "# KNN Model Hyperparameter Tuning\n",
    "\n",
    "# param_grid_knn = {\n",
    "#     'n_neighbors': [3, 5, 7, 9],\n",
    "#     'weights': ['uniform', 'distance'],\n",
    "#     'metric': ['euclidean', 'manhattan']\n",
    "# }\n",
    "\n",
    "# grid_search_knn = GridSearchCV(KNeighborsClassifier(), param_grid_knn, cv=5, n_jobs=-1)\n",
    "# grid_search_knn.fit(X_train, y_train)\n",
    "# best_knn_model = grid_search_knn.best_estimator_\n",
    "# best_knn_predictions = best_knn_model.predict(X_test)\n",
    "# print(\"Best KNN Classification Report:\\n\", classification_report(y_test, best_knn_predictions))"
   ]
  },
  {
   "cell_type": "code",
   "execution_count": 82,
   "metadata": {},
   "outputs": [],
   "source": [
    "# print(\"Best Hyperparameters:\", grid_search_knn.best_params_)\n",
    "# print(\"Best Model:\", grid_search_knn.best_estimator_)"
   ]
  },
  {
   "cell_type": "code",
   "execution_count": 83,
   "metadata": {},
   "outputs": [
    {
     "name": "stdout",
     "output_type": "stream",
     "text": [
      "KNN Classification Report:\n",
      "               precision    recall  f1-score   support\n",
      "\n",
      "           1       0.75      0.44      0.55       305\n",
      "           2       0.63      0.21      0.32       152\n",
      "           3       0.73      0.30      0.43       347\n",
      "           4       0.56      0.36      0.44       583\n",
      "           5       0.58      0.90      0.71      1166\n",
      "\n",
      "    accuracy                           0.60      2553\n",
      "   macro avg       0.65      0.44      0.49      2553\n",
      "weighted avg       0.62      0.60      0.57      2553\n",
      "\n"
     ]
    }
   ],
   "source": [
    "knn_model = KNeighborsClassifier(n_neighbors=7,metric='euclidean',weights='distance')\n",
    "knn_model.fit(X_train, y_train)\n",
    "knn_predictions = knn_model.predict(X_test)\n",
    "print(\"KNN Classification Report:\\n\", classification_report(y_test, knn_predictions))"
   ]
  },
  {
   "cell_type": "code",
   "execution_count": 84,
   "metadata": {},
   "outputs": [],
   "source": [
    "# Text Preprocessing\n",
    "\n",
    "def clean_text(text):\n",
    "    text = text.lower()\n",
    "    text = re.sub(r'[^a-zA-Z0-9\\s]', '', text)\n",
    "    stop_words = set(stopwords.words('english'))\n",
    "    text = ' '.join([word for word in text.split() if word not in stop_words])\n",
    "    lemmatizer = WordNetLemmatizer()\n",
    "    text = ' '.join([lemmatizer.lemmatize(word) for word in text.split()])\n",
    "\n",
    "    return text"
   ]
  },
  {
   "cell_type": "code",
   "execution_count": 85,
   "metadata": {},
   "outputs": [
    {
     "name": "stdout",
     "output_type": "stream",
     "text": [
      "[4] [3] [4] [5]\n"
     ]
    }
   ],
   "source": [
    "text = \"Overall, the product is okay. It functions as advertised but doesn't really stand out in any way. The design is pretty standard, and while it works well enough, there are no features that make it particularly exciting or unique. Customer service was fine, nothing too impressive but also not disappointing. It's a decent choice if you need something basic.\"\n",
    "cleaned_text = clean_text(text)\n",
    "\n",
    "new_data_tfidf = tfidf_vectorizer_review.transform([cleaned_text])\n",
    "nb_prediction = nb_model.predict(new_data_tfidf)\n",
    "svm_prediction = svm_model.predict(new_data_tfidf)\n",
    "rf_prediction = rf_model.predict(new_data_tfidf)\n",
    "knn_prediction = knn_model.predict(new_data_tfidf)\n",
    "print(nb_prediction,svm_prediction,rf_prediction,knn_prediction)"
   ]
  }
 ],
 "metadata": {
  "kernelspec": {
   "display_name": "base",
   "language": "python",
   "name": "python3"
  },
  "language_info": {
   "codemirror_mode": {
    "name": "ipython",
    "version": 3
   },
   "file_extension": ".py",
   "mimetype": "text/x-python",
   "name": "python",
   "nbconvert_exporter": "python",
   "pygments_lexer": "ipython3",
   "version": "3.11.5"
  }
 },
 "nbformat": 4,
 "nbformat_minor": 2
}
